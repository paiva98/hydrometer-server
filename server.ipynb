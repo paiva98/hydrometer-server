{
 "cells": [
  {
   "cell_type": "code",
   "execution_count": 2,
   "metadata": {},
   "outputs": [],
   "source": [
    "import http.server\n",
    "import socketserver\n",
    "import logging\n",
    "\n",
    "from PIL import Image\n",
    "import io\n",
    "import json\n",
    "\n",
    "PORT = 8000"
   ]
  },
  {
   "cell_type": "code",
   "execution_count": 3,
   "metadata": {},
   "outputs": [
    {
     "name": "stdout",
     "output_type": "stream",
     "text": [
      "serving at port 8000\n"
     ]
    },
    {
     "name": "stderr",
     "output_type": "stream",
     "text": [
      "127.0.0.1 - - [07/Jul/2023 17:02:53] \"GET /hello HTTP/1.1\" 200 -\n"
     ]
    }
   ],
   "source": [
    "class MyHandler(http.server.BaseHTTPRequestHandler):\n",
    "    def do_GET(self):\n",
    "        if self.path == '/hello':\n",
    "            self.send_response(200)\n",
    "            self.send_header('Content-type', 'text/html')\n",
    "            self.end_headers()\n",
    "            self.wfile.write(b\"Hello, World!\")\n",
    "\n",
    "        elif self.path == './get_number':\n",
    "            content_length = int(self.headers['Content-Length'])\n",
    "            body = self.rfile.read(content_length)\n",
    "            image = Image.open(io.BytesIO(body))\n",
    "\n",
    "            display(image)\n",
    "\n",
    "        else:\n",
    "            self.send_error(404)\n",
    "\n",
    "    def do_POST(self):\n",
    "        if self.path == '/send':\n",
    "            content_length = int(self.headers['Content-Length'])\n",
    "            post_data = self.rfile.read(content_length)\n",
    "            data = json.loads(post_data.decode('utf-8'))\n",
    "\n",
    "            # Extraia os valores do objeto JSON recebido\n",
    "            id = data['id']\n",
    "            valor = data['valor']\n",
    "\n",
    "            print(f'O hidrômetro {id} enviou o valor {valor}')\n",
    "\n",
    "            # Responda com um JSON de confirmação\n",
    "            response = {'status': 'success'}\n",
    "            self.send_response(200)\n",
    "            self.send_header('Content-type', 'application/json')\n",
    "            self.end_headers()\n",
    "            self.wfile.write(json.dumps(response).encode('utf-8'))  \n",
    "            \n",
    "        else:\n",
    "            self.send_error(404)\n",
    "            \n",
    "\n",
    "            \n",
    "with socketserver.TCPServer((\"\", PORT), MyHandler) as httpd:\n",
    "    print(\"serving at port\", PORT)\n",
    "    httpd.serve_forever()"
   ]
  }
 ],
 "metadata": {
  "kernelspec": {
   "display_name": "Python 3",
   "language": "python",
   "name": "python3"
  },
  "language_info": {
   "codemirror_mode": {
    "name": "ipython",
    "version": 3
   },
   "file_extension": ".py",
   "mimetype": "text/x-python",
   "name": "python",
   "nbconvert_exporter": "python",
   "pygments_lexer": "ipython3",
   "version": "3.10.6"
  },
  "orig_nbformat": 4
 },
 "nbformat": 4,
 "nbformat_minor": 2
}
